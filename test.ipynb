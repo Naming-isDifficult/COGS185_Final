{
 "cells": [
  {
   "cell_type": "code",
   "execution_count": null,
   "metadata": {},
   "outputs": [],
   "source": [
    "import Net.ResNet18 as res18\n",
    "from Net.Tester import Tester\n",
    "import Data.Loader as loader"
   ]
  },
  {
   "cell_type": "code",
   "execution_count": null,
   "metadata": {},
   "outputs": [],
   "source": [
    "model_type = 'normal'\n",
    "batch_size = 16\n",
    "input_ch = 3\n",
    "input_size = [224,224]\n",
    "output_class = 257"
   ]
  },
  {
   "cell_type": "code",
   "execution_count": null,
   "metadata": {},
   "outputs": [],
   "source": [
    "model = res18.get_resnet18(model_type, input_ch, input_size, output_class)\n",
    "dataloader = loader.get_data_loader(batch_size)\n",
    "\n",
    "tester = Tester(model, model_type, dataloader)"
   ]
  },
  {
   "cell_type": "code",
   "execution_count": null,
   "metadata": {},
   "outputs": [],
   "source": [
    "#load model\n",
    "checkpoint = None\n",
    "\n",
    "tester.load_model(checkpoint)"
   ]
  },
  {
   "cell_type": "code",
   "execution_count": null,
   "metadata": {},
   "outputs": [],
   "source": [
    "tester.test(100)"
   ]
  }
 ],
 "metadata": {
  "language_info": {
   "name": "python"
  },
  "orig_nbformat": 4
 },
 "nbformat": 4,
 "nbformat_minor": 2
}
