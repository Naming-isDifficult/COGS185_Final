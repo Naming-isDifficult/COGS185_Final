{
 "cells": [
  {
   "cell_type": "code",
   "execution_count": null,
   "id": "d1bd83e9",
   "metadata": {},
   "outputs": [],
   "source": [
    "import Net.ResNet18 as res18\n",
    "from Net.Trainer import Trainer\n",
    "import Data.Loader as loader"
   ]
  },
  {
   "cell_type": "code",
   "execution_count": null,
   "id": "8f175948",
   "metadata": {},
   "outputs": [],
   "source": [
    "model_type = 'normal'\n",
    "batch_size = 16\n",
    "input_ch = 3\n",
    "input_size = [224,224]\n",
    "output_class = 257\n",
    "\n",
    "epoch = 1000\n",
    "save_per_epoch = 10"
   ]
  },
  {
   "cell_type": "code",
   "execution_count": null,
   "id": "0910327a",
   "metadata": {},
   "outputs": [],
   "source": [
    "model = res18.get_resnet18(model_type, input_ch, input_size, output_class)\n",
    "dataloader = loader.get_data_loader(batch_size)\n",
    "\n",
    "trainer = Trainer(model, model_type, dataloader, epoch)"
   ]
  },
  {
   "cell_type": "code",
   "execution_count": null,
   "id": "5d93e6e9",
   "metadata": {},
   "outputs": [],
   "source": [
    "#resume if needed\n",
    "checkpoint = None\n",
    "\n",
    "trainer.resume(checkpoint)"
   ]
  },
  {
   "cell_type": "code",
   "execution_count": null,
   "id": "177319a6",
   "metadata": {},
   "outputs": [],
   "source": [
    "trainer.train(save_per_epoch)"
   ]
  }
 ],
 "metadata": {
  "kernelspec": {
   "display_name": "Python 3 (ipykernel)",
   "language": "python",
   "name": "python3"
  },
  "language_info": {
   "codemirror_mode": {
    "name": "ipython",
    "version": 3
   },
   "file_extension": ".py",
   "mimetype": "text/x-python",
   "name": "python",
   "nbconvert_exporter": "python",
   "pygments_lexer": "ipython3",
   "version": "3.8.13"
  }
 },
 "nbformat": 4,
 "nbformat_minor": 5
}
